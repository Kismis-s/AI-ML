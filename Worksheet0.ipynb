{
  "nbformat": 4,
  "nbformat_minor": 0,
  "metadata": {
    "colab": {
      "provenance": []
    },
    "kernelspec": {
      "name": "python3",
      "display_name": "Python 3"
    },
    "language_info": {
      "name": "python"
    }
  },
  "cells": [
    {
      "cell_type": "markdown",
      "source": [
        "**4.1 Exercise on Functions:**"
      ],
      "metadata": {
        "id": "DWHIsyfs-hKG"
      }
    },
    {
      "cell_type": "markdown",
      "source": [
        "Task - 1:\n",
        "Create a Python program that converts between different units of measurement."
      ],
      "metadata": {
        "id": "OBdvhqta-kGK"
      }
    },
    {
      "cell_type": "code",
      "source": [
        "def toFeet(num):\n",
        "    \"\"\"\n",
        "    Converts meters to feet.\n",
        "\n",
        "    Parameters:\n",
        "    num (float): The value in meters to convert.\n",
        "\n",
        "    Returns:\n",
        "    float: The value converted to feet.\n",
        "    \"\"\"\n",
        "    return num * 3.281\n",
        "\n",
        "def toMeters(num):\n",
        "    \"\"\"\n",
        "    Converts feet to meters.\n",
        "\n",
        "    Parameters:\n",
        "    num (float): The value in feet to convert.\n",
        "\n",
        "    Returns:\n",
        "    float: The value converted to meters.\n",
        "    \"\"\"\n",
        "    return num / 3.281\n",
        "\n",
        "def toPounds(num):\n",
        "    \"\"\"\n",
        "    Converts kilograms to pounds.\n",
        "\n",
        "    Parameters:\n",
        "    num (float): The value in kilograms to convert.\n",
        "\n",
        "    Returns:\n",
        "    float: The value converted to pounds.\n",
        "    \"\"\"\n",
        "    return num * 2.205\n",
        "\n",
        "def toKgs(num):\n",
        "    \"\"\"\n",
        "    Converts pounds to kilograms.\n",
        "\n",
        "    Parameters:\n",
        "    num (float): The value in pounds to convert.\n",
        "\n",
        "    Returns:\n",
        "    float: The value converted to kilograms.\n",
        "    \"\"\"\n",
        "    return num / 2.205\n",
        "\n",
        "def toGallons(num):\n",
        "    \"\"\"\n",
        "    Converts liters to gallons.\n",
        "\n",
        "    Parameters:\n",
        "    num (float): The value in liters to convert.\n",
        "\n",
        "    Returns:\n",
        "    float: The value converted to gallons.\n",
        "    \"\"\"\n",
        "    return num / 3.785\n",
        "\n",
        "def toLiters(num):\n",
        "    \"\"\"\n",
        "    Converts gallons to liters.\n",
        "\n",
        "    Parameters:\n",
        "    num (float): The value in gallons to convert.\n",
        "\n",
        "    Returns:\n",
        "    float: The value converted to liters.\n",
        "    \"\"\"\n",
        "    return num * 3.785\n",
        "\n",
        "try:\n",
        "    num = float(input(\"Enter the value: \")) # Take input from the user\n",
        "\n",
        "    print(\"Choose an operation: a(m to ft), b(ft to m), c(kg to lbs), d(lbs to kg), e(lts to gal), f(gal to ltrs)\")\n",
        "    operation = input(\"Enter operator: \")\n",
        "\n",
        "    #Conversion operations\n",
        "    if operation == \"a\":\n",
        "        print(f\"Result: {toFeet(num)}ft\")\n",
        "    elif operation == \"b\":\n",
        "        print(f\"Result: {toMeters(num)}m\")\n",
        "    elif operation == \"c\":\n",
        "        print(f\"Result: {toPounds(num)}lbs\")\n",
        "    elif operation == \"d\":\n",
        "        print(f\"Result: {toKgs(num)}kg\")\n",
        "    elif operation == \"e\":\n",
        "        print(f\"Result: {toGallons(num)}gal\")\n",
        "    elif operation == \"f\":\n",
        "        print(f\"Result: {toLiters(num)}ltrs\")\n",
        "    else:\n",
        "        print(\"Invalid conversion types\")  # For invalid operation\n",
        "except:\n",
        "    print(\"Invalid input\")# For invalid input\n"
      ],
      "metadata": {
        "id": "E4LvF7Iaze_p"
      },
      "execution_count": null,
      "outputs": []
    },
    {
      "cell_type": "markdown",
      "source": [
        "Task - 2:\n",
        "Create a Python program that performs various mathematical operations on a list of numbers."
      ],
      "metadata": {
        "id": "FXJy8J2yEII2"
      }
    },
    {
      "cell_type": "code",
      "source": [
        "from statistics import mean\n",
        "\n",
        "def sumList(user_list):\n",
        "    \"\"\"Returns the sum of all numbers in the list.\"\"\"\n",
        "    return sum(user_list)\n",
        "\n",
        "def average(user_list):\n",
        "    \"\"\"Returns the average (mean) of all numbers in the list.\"\"\"\n",
        "    return mean(user_list)\n",
        "\n",
        "def minimum(user_list):\n",
        "    \"\"\"Returns the smallest number in the list.\"\"\"\n",
        "    return min(user_list)\n",
        "\n",
        "def maximum(user_list):\n",
        "    \"\"\"Returns the largest number in the list.\"\"\"\n",
        "    return max(user_list)\n",
        "\n",
        "# Take input and convert it to a list of numbers\n",
        "user_input = input(\"Enter elements separated by space: \").split()\n",
        "\n",
        "try:\n",
        "    # Convert string list to int list\n",
        "    user_list = [int(num) for num in user_input]\n",
        "\n",
        "    print(\"Choose an operation: sum, average, minimum, maximum\")\n",
        "    operation = input(\"Enter operator: \").strip().lower()\n",
        "\n",
        "    # Perform selected operation\n",
        "    if operation == \"sum\":\n",
        "        print(f\"Sum: {sumList(user_list)}\")\n",
        "    elif operation == \"average\":\n",
        "        print(f\"Average: {average(user_list)}\")\n",
        "    elif operation == \"minimum\":\n",
        "        print(f\"Minimum: {minimum(user_list)}\")\n",
        "    elif operation == \"maximum\":\n",
        "        print(f\"Maximum: {maximum(user_list)}\")\n",
        "    else:\n",
        "        print(\"Invalid operation type.\")\n",
        "except:\n",
        "    print(\"Enter valid numbers.\")"
      ],
      "metadata": {
        "colab": {
          "base_uri": "https://localhost:8080/"
        },
        "id": "glfD38SIzrMd",
        "outputId": "7f68d30f-cb68-4a15-c7e7-568305741938"
      },
      "execution_count": 14,
      "outputs": [
        {
          "output_type": "stream",
          "name": "stdout",
          "text": [
            "Enter elements separated by space: 2 4 6\n",
            "Choose an operation: sum, average, minimum, maximum\n",
            "Enter operator: average\n",
            "Average: 4\n"
          ]
        }
      ]
    },
    {
      "cell_type": "markdown",
      "source": [
        "**4.2 Exercise on List Manipulation:**"
      ],
      "metadata": {
        "id": "jgQQ3q0s2IP3"
      }
    },
    {
      "cell_type": "markdown",
      "source": [
        "1. Extract Every Other Element:\n",
        "Write a Python function that extracts every other element from a list, starting from the first element."
      ],
      "metadata": {
        "id": "ZCowWwfc2MnA"
      }
    },
    {
      "cell_type": "code",
      "source": [
        "'''\n",
        "  Function that extracts every other element from a list\n",
        "  '''\n",
        "def extract_every_other(lst):\n",
        "    alternate_list = [lst[i] for i in range(len(lst)) if i % 2 == 0]\n",
        "    return alternate_list\n",
        "\n",
        "lst = input(\"Enter elements separated by space: \").split() #taking user input\n",
        "print(\"Original List:\", lst)\n",
        "\n",
        "print(f\"The alternate list is: {extract_every_other(lst)}\")\n"
      ],
      "metadata": {
        "colab": {
          "base_uri": "https://localhost:8080/"
        },
        "id": "1u55CXRG2WEm",
        "outputId": "43ad85aa-beb9-43ec-b4ed-140d531247f7"
      },
      "execution_count": 17,
      "outputs": [
        {
          "output_type": "stream",
          "name": "stdout",
          "text": [
            "Enter elements separated by space: 1 2 3 4 5 6\n",
            "Original List: ['1', '2', '3', '4', '5', '6']\n",
            "The alternate list is: ['1', '3', '5']\n"
          ]
        }
      ]
    },
    {
      "cell_type": "markdown",
      "source": [
        "2. Slice a Sublist:\n",
        "Write a Python function that returns a sublist from a given list, starting from a specified index and\n",
        "ending at another specified index."
      ],
      "metadata": {
        "id": "NJwCHsxX3MPz"
      }
    },
    {
      "cell_type": "code",
      "source": [
        "def get_sublist(lst, start, end):\n",
        "  ''' function that returns a sublist from a given list'''\n",
        "    sub_list = lst[start:end+1]\n",
        "    return sub_list\n",
        "\n",
        "# Get user input and split it into a list\n",
        "lst = input(\"Enter elements separated by space: \").split()\n",
        "print(\"Original List:\", lst)\n",
        "\n",
        "start= int(input(\"Enter the start index: \"))# start index\n",
        "end= int(input(\"Enter the end index: \")) #end index\n",
        "\n",
        "print(f\"The sub list is: {get_sublist(lst, start, end)}\")"
      ],
      "metadata": {
        "colab": {
          "base_uri": "https://localhost:8080/"
        },
        "id": "gKKRsP203Wek",
        "outputId": "d6c44cd7-972b-4aff-d553-b4d032b4f5f3"
      },
      "execution_count": 19,
      "outputs": [
        {
          "output_type": "stream",
          "name": "stdout",
          "text": [
            "Enter elements separated by space: 1 2 3 4 5 6 7 8\n",
            "Original List: ['1', '2', '3', '4', '5', '6', '7', '8']\n",
            "Enter the start index: 2\n",
            "Enter the end index: 5\n",
            "The sub list is: ['3', '4', '5', '6']\n"
          ]
        }
      ]
    },
    {
      "cell_type": "markdown",
      "source": [
        "3. Reverse a List Using Slicing:\n",
        "Write a Python function that reverses a list using slicing."
      ],
      "metadata": {
        "id": "_xPX1a1V47i3"
      }
    },
    {
      "cell_type": "code",
      "source": [
        "def reverse_list(lst):\n",
        "  '''Python function that reverses a list using slicing'''\n",
        "    rev_list = lst[::-1]\n",
        "    return rev_list\n",
        "\n",
        "# Get user input and split it into a list\n",
        "lst = input(\"Enter elements separated by space: \").split()\n",
        "print(\"Original List:\", lst)\n",
        "\n",
        "print(f\"The sub list is: {reverse_list(lst)}\")"
      ],
      "metadata": {
        "colab": {
          "base_uri": "https://localhost:8080/"
        },
        "id": "5pKnPbK55U4O",
        "outputId": "b6d8a339-193d-4e56-d4f6-834ff27dca32"
      },
      "execution_count": 20,
      "outputs": [
        {
          "output_type": "stream",
          "name": "stdout",
          "text": [
            "Enter elements separated by space: 1 2 3 4 5\n",
            "Original List: ['1', '2', '3', '4', '5']\n",
            "The sub list is: ['5', '4', '3', '2', '1']\n"
          ]
        }
      ]
    },
    {
      "cell_type": "markdown",
      "source": [
        "4. Remove the First and Last Elements:\n",
        "Write a Python function that removes the first and last elements of a list and returns the resulting\n",
        "sublist."
      ],
      "metadata": {
        "id": "RztEYebf53rW"
      }
    },
    {
      "cell_type": "code",
      "source": [
        "def remove_first_last(lst):\n",
        "  ''' Python function that removes the first and last elements of a list'''\n",
        "  lst.pop(0) #First element\n",
        "  lst.pop(-1) #Last element\n",
        "  return lst\n",
        "\n",
        "# Get user input and split it into a list\n",
        "lst = input(\"Enter elements separated by space: \").split()\n",
        "print(\"Original List:\", lst)\n",
        "\n",
        "print(f\"The sub list is: {remove_first_last(lst)}\")"
      ],
      "metadata": {
        "colab": {
          "base_uri": "https://localhost:8080/"
        },
        "id": "hnVJ0nYp575u",
        "outputId": "0737b1d8-154d-4cdc-fa2b-3be22987d8b6"
      },
      "execution_count": 23,
      "outputs": [
        {
          "output_type": "stream",
          "name": "stdout",
          "text": [
            "Enter elements separated by space: 1 2 3 4 5\n",
            "Original List: ['1', '2', '3', '4', '5']\n",
            "The sub list is: ['2', '3', '4']\n"
          ]
        }
      ]
    },
    {
      "cell_type": "markdown",
      "source": [
        "5. Get the First n Elements:\n",
        "Write a Python function that extracts the first n elements from a list."
      ],
      "metadata": {
        "id": "gehrT8xD7H2M"
      }
    },
    {
      "cell_type": "code",
      "source": [
        "def get_first_n(lst, n):\n",
        "  '''Python function that extracts the first n elements from a list.'''\n",
        "    sub_list = lst[:n] # extracting till n\n",
        "    return sub_list\n",
        "\n",
        "# Get user input and split it into a list\n",
        "lst = input(\"Enter elements separated by space: \").split()\n",
        "print(\"Original List:\", lst)\n",
        "\n",
        "n = int(input(\"Enter the number of elements: \"))\n",
        "print(f\"The sub list is: {get_first_n(lst, n)}\")\n"
      ],
      "metadata": {
        "colab": {
          "base_uri": "https://localhost:8080/"
        },
        "id": "1ixDuZ4C7LIn",
        "outputId": "4d820223-b5d2-4304-a826-b0f74f4875de"
      },
      "execution_count": 24,
      "outputs": [
        {
          "output_type": "stream",
          "name": "stdout",
          "text": [
            "Enter elements separated by space: 1 2 3 4 5\n",
            "Original List: ['1', '2', '3', '4', '5']\n",
            "Enter the number of elements: 2\n",
            "The sub list is: ['1', '2']\n"
          ]
        }
      ]
    },
    {
      "cell_type": "markdown",
      "source": [
        "6. Extract Elements from the End:\n",
        "Write a Python function that extracts the last n elements of a list using slicing."
      ],
      "metadata": {
        "id": "s00KXjMe7vt0"
      }
    },
    {
      "cell_type": "code",
      "source": [
        "def get_last_n(lst, n):\n",
        "  '''Python function that extracts the last n elements of a list'''\n",
        "    sub_list = lst[-n:]\n",
        "    return sub_list\n",
        "\n",
        "# Get user input and split it into a list\n",
        "lst = input(\"Enter elements separated by space: \").split()\n",
        "print(\"Original List:\", lst)\n",
        "\n",
        "n = int(input(\"Enter the number of elements: \"))#Number of elements for extracting\n",
        "print(f\"The sub list is: {get_last_n(lst, n)}\")\n"
      ],
      "metadata": {
        "colab": {
          "base_uri": "https://localhost:8080/"
        },
        "id": "8zV1ocLv71CX",
        "outputId": "795f9ac9-a4c7-4d50-ceba-3d4d984045c1"
      },
      "execution_count": 25,
      "outputs": [
        {
          "output_type": "stream",
          "name": "stdout",
          "text": [
            "Enter elements separated by space: 1 2 3 4 5\n",
            "Original List: ['1', '2', '3', '4', '5']\n",
            "Enter the number of elements: 2\n",
            "The sub list is: ['4', '5']\n"
          ]
        }
      ]
    },
    {
      "cell_type": "markdown",
      "source": [
        "7. Extract Elements in Reverse Order:\n",
        "Write a Python function that extracts a list of elements in reverse order starting from the second-to-last\n",
        "element and skipping one element in between."
      ],
      "metadata": {
        "id": "x8vLufgk8IeS"
      }
    },
    {
      "cell_type": "code",
      "source": [
        "def reverse_skip(lst):\n",
        "  '''Python function that extracts a list of elements in reverse order starting\n",
        "  from the second-to-last element and skipping one element in between'''\n",
        "  lst.reverse() #Reversing the list\n",
        "  lst.pop(0) #Deleting the first value\n",
        "  reverse_list = [lst[i] for i in range(len(lst)) if i % 2 == 0] #skipping one element in between\n",
        "  return reverse_list\n",
        "\n",
        "# Get user input and split it into a list\n",
        "lst = input(\"Enter elements separated by space: \").split()\n",
        "print(\"Original List:\", lst)\n",
        "\n",
        "print(f\"The reverse list is: {reverse_skip(lst)}\")"
      ],
      "metadata": {
        "colab": {
          "base_uri": "https://localhost:8080/"
        },
        "id": "6k0pkO_08L3j",
        "outputId": "e90d04ab-1eab-41cf-aa5b-b9d6d94a5352"
      },
      "execution_count": 27,
      "outputs": [
        {
          "output_type": "stream",
          "name": "stdout",
          "text": [
            "Enter elements separated by space: 1 2 3 4 5 6\n",
            "Original List: ['1', '2', '3', '4', '5', '6']\n",
            "The sub list is: ['5', '3', '1']\n"
          ]
        }
      ]
    },
    {
      "cell_type": "markdown",
      "source": [
        "**4.3 Exercise on Nested List:**"
      ],
      "metadata": {
        "id": "p30XSXut_ScB"
      }
    },
    {
      "cell_type": "markdown",
      "source": [
        "1. Flatten a Nested List:\n",
        "Write a Python function that takes a nested list and flattens it into a single list, where all the elements\n",
        "are in a single dimension."
      ],
      "metadata": {
        "id": "kiUUT1qY_UHn"
      }
    },
    {
      "cell_type": "code",
      "source": [
        "def flatten_list(lst):\n",
        "  '''Python function that flattens a nested list into a single list'''\n",
        "    flatten_list = [val for sublist in lst for val in sublist]\n",
        "    return flatten_list\n",
        "\n",
        "list_size=int(input(\"enter the size of list: \"))\n",
        "sub_size= int(input(\"enter the size of sublist: \"))\n",
        "lst=[]\n",
        "sublist=[]\n",
        "#Looping through each sublist\n",
        "for i in range(list_size):\n",
        "    for j in range(sub_size):\n",
        "        sublist.append(input(\"Enter a number: \"))#Entering elements\n",
        "    lst.append(sublist)\n",
        "    sublist=[]\n",
        "print (f\"The original list is: {lst}\")\n",
        "\n",
        "print(f\"The flattened list is: {flatten_list(lst)}\")"
      ],
      "metadata": {
        "colab": {
          "base_uri": "https://localhost:8080/"
        },
        "id": "CyndeyGq_Wpa",
        "outputId": "0ccd184b-beb1-42a2-ffd3-b674a420a2fb"
      },
      "execution_count": 32,
      "outputs": [
        {
          "output_type": "stream",
          "name": "stdout",
          "text": [
            "enter the size of list: 2\n",
            "enter the size of sublist: 3\n",
            "Enter a number: 6\n",
            "Enter a number: 8\n",
            "Enter a number: 9\n",
            "Enter a number: 1\n",
            "Enter a number: 0\n",
            "Enter a number: 4\n",
            "The original list is: [['6', '8', '9'], ['1', '0', '4']]\n",
            "The flattened list is: ['6', '8', '9', '1', '0', '4']\n"
          ]
        }
      ]
    },
    {
      "cell_type": "markdown",
      "source": [
        "2. Accessing Nested List Elements:\n",
        "Write a Python function that extracts a specific element from a nested list given its indices."
      ],
      "metadata": {
        "id": "3ToPYNebC7Zx"
      }
    },
    {
      "cell_type": "code",
      "source": [
        "def access_nested_element(lst, indices):\n",
        "  '''Python function that extracts a specific element from a nested list given its indices'''\n",
        "  row,col=indices[0],indices[1]\n",
        "  return lst[row][col]\n",
        "\n",
        "#For nested list\n",
        "list_size=int(input(\"enter the size of list: \"))\n",
        "sub_size= int(input(\"enter the size of sublist: \"))\n",
        "\n",
        "lst=[]\n",
        "sublist=[]\n",
        "for i in range(list_size):\n",
        "    for j in range(sub_size):\n",
        "        sublist.append(input(\"Enter a number: \")) #Appending elements\n",
        "    lst.append(sublist)\n",
        "    sublist=[]\n",
        "print (f\"The original list is: {lst}\")\n",
        "\n",
        "indices = list(map(int, input(\"Enter the indices separated by space: \").split())) #for indices\n",
        "\n",
        "print(f\"The indices are:\", indices)\n",
        "\n",
        "print(f\"The index value is: {access_nested_element(lst, indices)}\")"
      ],
      "metadata": {
        "colab": {
          "base_uri": "https://localhost:8080/"
        },
        "id": "NGCqg6ZMC_xx",
        "outputId": "63f32263-1830-42f2-9b6e-8489edbd4aee"
      },
      "execution_count": 42,
      "outputs": [
        {
          "output_type": "stream",
          "name": "stdout",
          "text": [
            "enter the size of list: 2\n",
            "enter the size of sublist: 3\n",
            "Enter a number: 2\n",
            "Enter a number: 3\n",
            "Enter a number: 4\n",
            "Enter a number: 5\n",
            "Enter a number: 6\n",
            "Enter a number: 7\n",
            "The original list is: [['2', '3', '4'], ['5', '6', '7']]\n",
            "Enter the indices separated by space: 1 1\n",
            "The indices are: [1, 1]\n",
            "The index value is: 6\n"
          ]
        }
      ]
    },
    {
      "cell_type": "markdown",
      "source": [
        "Sum of All Elements in a Nested List:\n",
        "Write a Python function that calculates the sum of all the numbers in a nested list (regardless of depth)."
      ],
      "metadata": {
        "id": "bo4hca6cPvhi"
      }
    },
    {
      "cell_type": "code",
      "source": [
        "def sum_nested(lst):\n",
        "    \"\"\"\n",
        "    Returns the sum of all numbers in a nested list.\n",
        "\n",
        "    Parameters:\n",
        "    lst (list): A nested list containing numbers.\n",
        "\n",
        "    Returns:\n",
        "    int: Sum of all numbers.\n",
        "    \"\"\"\n",
        "    total = 0\n",
        "    for i in lst:\n",
        "        if isinstance(i, list):\n",
        "            total += sum_nested(i)\n",
        "        else:\n",
        "            total += int(i)  # Sum\n",
        "    return total\n",
        "\n",
        "# For nested list\n",
        "list_size = int(input(\"Enter the size of the main list: \"))\n",
        "sub_size = int(input(\"Enter the size of each sublist: \"))\n",
        "\n",
        "lst = []\n",
        "for i in range(list_size):\n",
        "    sublist = []\n",
        "    for j in range(sub_size):\n",
        "        sublist.append(int(input(f\"Enter a number for lst[{i}][{j}]: \")))  # Appending elements\n",
        "    lst.append(sublist)\n",
        "\n",
        "print(f\"The original list is: {lst}\")\n",
        "\n",
        "# Calling the function and printing\n",
        "print(f\"The sum is: {sum_nested(lst)}\")"
      ],
      "metadata": {
        "colab": {
          "base_uri": "https://localhost:8080/"
        },
        "id": "lSBKdDQGP0yr",
        "outputId": "0a6a293f-64c1-4e7f-c63d-fe7d3d4c848c"
      },
      "execution_count": 56,
      "outputs": [
        {
          "output_type": "stream",
          "name": "stdout",
          "text": [
            "Enter the size of the main list: 2\n",
            "Enter the size of each sublist: 2\n",
            "Enter a number for lst[0][0]: 1\n",
            "Enter a number for lst[0][1]: 2\n",
            "Enter a number for lst[1][0]: 3\n",
            "Enter a number for lst[1][1]: 4\n",
            "The original list is: [[1, 2], [3, 4]]\n",
            "The sum is: 10\n"
          ]
        }
      ]
    },
    {
      "cell_type": "markdown",
      "source": [
        "4. Remove Specific Element from a Nested List:\n",
        "Write a Python function that removes all occurrences of a specific element from a nested list."
      ],
      "metadata": {
        "id": "ogH0fWtQUKFu"
      }
    },
    {
      "cell_type": "code",
      "source": [
        "def remove_element(lst, elem):\n",
        "  '''Python function that removes all occurrences of a specific element'''\n",
        "    for i in range(len(lst)):\n",
        "        lst[i] = [x for x in lst[i] if x != elem] #Removing elements with the value of elem\n",
        "    return lst\n",
        "\n",
        "#For nested list\n",
        "list_size = int(input(\"Enter the size of list: \"))\n",
        "sub_size = int(input(\"Enter the size of sublist: \"))\n",
        "\n",
        "lst = []\n",
        "for i in range(list_size):\n",
        "    sublist = []\n",
        "    for j in range(sub_size):\n",
        "        sublist.append(int(input(\"Enter a number: \")))  #Appending elements\n",
        "    lst.append(sublist)\n",
        "\n",
        "print(f\"The original list is: {lst}\")\n",
        "\n",
        "elem = int(input(\"Enter the element to be removed: \"))#element to be removed\n",
        "\n",
        "print(f\"The removed list is: {remove_element(lst, elem)}\")"
      ],
      "metadata": {
        "colab": {
          "base_uri": "https://localhost:8080/"
        },
        "id": "IjugI-_qUQam",
        "outputId": "4d08270b-3be6-494b-f664-7a37e9d0270a"
      },
      "execution_count": 58,
      "outputs": [
        {
          "output_type": "stream",
          "name": "stdout",
          "text": [
            "Enter the size of list: 2\n",
            "Enter the size of sublist: 2\n",
            "Enter a number: 1\n",
            "Enter a number: 2\n",
            "Enter a number: 2\n",
            "Enter a number: 5\n",
            "The original list is: [[1, 2], [2, 5]]\n",
            "Enter the element to be removed: 2\n",
            "The removed list is: [[1], [5]]\n"
          ]
        }
      ]
    },
    {
      "cell_type": "markdown",
      "source": [
        "5. Find the Maximum Element in a Nested List:\n",
        "Write a Python function that finds the maximum element in a nested list."
      ],
      "metadata": {
        "id": "xYauWs4cW6BE"
      }
    },
    {
      "cell_type": "code",
      "source": [
        "def find_max(lst):\n",
        "  '''Python function that finds the maximum element in a nested list'''\n",
        "  max=0\n",
        "  for i in lst: #Looping to check for the max value\n",
        "    if(type(i)==list):\n",
        "      for j in i:\n",
        "        if(type(j)==list):\n",
        "          for k in j:\n",
        "            if(k>max):\n",
        "              max=k\n",
        "        else:\n",
        "          if(j>max):\n",
        "            max=j\n",
        "    else:\n",
        "      if(i>max):\n",
        "        max=i\n",
        "  return max\n",
        "lst = [[1, 2], [3, [4, 5]], 6]\n",
        "print(f\"The maximum value is: {find_max(lst)}\") #calling and printing"
      ],
      "metadata": {
        "colab": {
          "base_uri": "https://localhost:8080/"
        },
        "id": "ElQnxykHW62t",
        "outputId": "3123606f-bddc-43ca-d883-831fd395d7cc"
      },
      "execution_count": 59,
      "outputs": [
        {
          "output_type": "stream",
          "name": "stdout",
          "text": [
            "The maximum value is: 6\n"
          ]
        }
      ]
    },
    {
      "cell_type": "markdown",
      "source": [
        "6. Count Occurrences of an Element in a Nested List:\n",
        "Write a Python function that counts how many times a specific element appears in a nested list."
      ],
      "metadata": {
        "id": "bhys1RYNYKxr"
      }
    },
    {
      "cell_type": "code",
      "source": [
        "def count_occurences(lst, elem):\n",
        "  '''Python function that counts the occurrences of an element in a nested list'''\n",
        "  num=0\n",
        "  for i in range(len(lst)):  #Looping through the list\n",
        "        if [x for x in lst[i] if x == elem]: #checking for values the same as elem\n",
        "          num+=1 #counting the occurences\n",
        "  return num\n",
        "\n",
        "lst = [[1, 2], [2, 3], [2, 4]]\n",
        "elem = int(input(\"Enter the element to be counted: \"))\n",
        "\n",
        "print(f\"The total occurance of {elem} is: {count_occurences(lst, elem)}\")"
      ],
      "metadata": {
        "colab": {
          "base_uri": "https://localhost:8080/"
        },
        "id": "NRbcKsQoYMS1",
        "outputId": "a6a76bb4-8811-4ba8-db3d-be72e8d9eeda"
      },
      "execution_count": 63,
      "outputs": [
        {
          "output_type": "stream",
          "name": "stdout",
          "text": [
            "Enter the element to be counted: 2\n",
            "The total occurance of 2 is: 3\n"
          ]
        }
      ]
    },
    {
      "cell_type": "markdown",
      "source": [
        "7. Flatten a List of Lists of Lists:\n",
        "Write a Python function that flattens a list of lists of lists into a single list, regardless of the depth."
      ],
      "metadata": {
        "id": "I_LSznm-Zk3d"
      }
    },
    {
      "cell_type": "code",
      "source": [
        "def deep_flatten(lst):\n",
        "  '''Python function that flattens a list of lists of lists into a single list'''\n",
        "  flatten_list=[]\n",
        "  # Loop through each element in the list\n",
        "  for i in lst:\n",
        "    if(type(i)==list):\n",
        "      for j in i:\n",
        "        if(type(j)==list):\n",
        "          for k in j:\n",
        "            flatten_list.append(k)\n",
        "        else:\n",
        "          flatten_list.append(j)\n",
        "    else:\n",
        "      flatten_list.append(i)\n",
        "  return flatten_list\n",
        "\n",
        "lst = [[[1, 2], [3, 4]], [[5, 6], [7, 8]]]\n",
        "\n",
        "print(f\"The flattened list is: {deep_flatten(lst)}\")"
      ],
      "metadata": {
        "colab": {
          "base_uri": "https://localhost:8080/"
        },
        "id": "YjOHlhxKZp6y",
        "outputId": "2f82f97f-f5a6-4d55-bac0-fac5de83e311"
      },
      "execution_count": 65,
      "outputs": [
        {
          "output_type": "stream",
          "name": "stdout",
          "text": [
            "The flattened list is: [1, 2, 3, 4, 5, 6, 7, 8]\n"
          ]
        }
      ]
    },
    {
      "cell_type": "markdown",
      "source": [
        "8. Nested List Average:\n",
        "Write a Python function that calculates the average of all elements in a nested list."
      ],
      "metadata": {
        "id": "gceX32MXa9JT"
      }
    },
    {
      "cell_type": "code",
      "source": [
        "def average_nested(lst):\n",
        "  '''Python function that calculates the average of all elements in a nested list'''\n",
        "  average=0\n",
        "  sum=0\n",
        "  length=0\n",
        "  for i in lst:\n",
        "    for j in i:\n",
        "      sum+=j\n",
        "      length+=1\n",
        "  average=sum/length # Calculating average\n",
        "  return average\n",
        "\n",
        "lst = [[1, 2], [3, 4], [5, 6]]\n",
        "print(average_nested(lst))"
      ],
      "metadata": {
        "colab": {
          "base_uri": "https://localhost:8080/"
        },
        "id": "95koJI-aa-AS",
        "outputId": "7786e9e3-3df2-4509-9a91-cb1ff29dc88b"
      },
      "execution_count": 66,
      "outputs": [
        {
          "output_type": "stream",
          "name": "stdout",
          "text": [
            "3.5\n"
          ]
        }
      ]
    },
    {
      "cell_type": "markdown",
      "source": [
        "**Basic Vector and Matrix Operation with Numpy.**"
      ],
      "metadata": {
        "id": "oJO9qqsMplmU"
      }
    },
    {
      "cell_type": "markdown",
      "source": [
        "Initialize an empty array with size 2X2."
      ],
      "metadata": {
        "id": "MnEHrC1uQl8e"
      }
    },
    {
      "cell_type": "code",
      "execution_count": 1,
      "metadata": {
        "colab": {
          "base_uri": "https://localhost:8080/"
        },
        "id": "Q1T0u01HPTUe",
        "outputId": "84660e6e-166f-4aed-9f60-05de86be2e6d"
      },
      "outputs": [
        {
          "output_type": "stream",
          "name": "stdout",
          "text": [
            "[[2.08211714e-316 0.00000000e+000]\n",
            " [8.90029543e-307 1.67626279e+243]]\n"
          ]
        }
      ],
      "source": [
        "import numpy as np\n",
        "\n",
        "matrix = np.empty([2, 2]) #creating an empty array with 2*2 dimensions\n",
        "print(matrix)"
      ]
    },
    {
      "cell_type": "markdown",
      "source": [
        "Initialize an all one array with size 4X2."
      ],
      "metadata": {
        "id": "DtQB7vw_Qonp"
      }
    },
    {
      "cell_type": "code",
      "source": [
        "matrix = np.ones((4,2)) # Creating an all one array\n",
        "print(matrix)"
      ],
      "metadata": {
        "colab": {
          "base_uri": "https://localhost:8080/"
        },
        "id": "JzXcFQg_Qq3c",
        "outputId": "fe2c4fe7-310d-491f-fd40-2b24a9e0c2f4"
      },
      "execution_count": null,
      "outputs": [
        {
          "output_type": "stream",
          "name": "stdout",
          "text": [
            "[[1. 1.]\n",
            " [1. 1.]\n",
            " [1. 1.]\n",
            " [1. 1.]]\n"
          ]
        }
      ]
    },
    {
      "cell_type": "markdown",
      "source": [
        "Return a new array of given shape and type, filled with fill value.{Hint: np.full}"
      ],
      "metadata": {
        "id": "fBjd4pAjQwGB"
      }
    },
    {
      "cell_type": "code",
      "source": [
        "matrix = np.full([2, 2], 3, dtype = int) #new array with value 3\n",
        "print(\"\\nMatrix: \\n\", matrix)"
      ],
      "metadata": {
        "colab": {
          "base_uri": "https://localhost:8080/"
        },
        "id": "_5v8VqZZQ0tM",
        "outputId": "d75dcf66-39ee-4d46-f8ed-ee41f4023a2f"
      },
      "execution_count": null,
      "outputs": [
        {
          "output_type": "stream",
          "name": "stdout",
          "text": [
            "\n",
            "Matrix: \n",
            " [[3 3]\n",
            " [3 3]]\n"
          ]
        }
      ]
    },
    {
      "cell_type": "markdown",
      "source": [
        "Return a new array of zeros with same shape and type as a given array.{Hint: np.zeros like}"
      ],
      "metadata": {
        "id": "xwRghYYcRQPQ"
      }
    },
    {
      "cell_type": "code",
      "source": [
        "array = np.ones((4,2))\n",
        "\n",
        "print(\"\\nGiven array: \\n\", array)\n",
        "\n",
        "like_array = np.zeros_like(array) #new array of zeros\n",
        "print(\"\\n Zeros Array: \\n\", like_array)"
      ],
      "metadata": {
        "colab": {
          "base_uri": "https://localhost:8080/"
        },
        "id": "5ylf5FoOSZOC",
        "outputId": "9c161717-2592-4f8b-80ad-ea36a8a712a3"
      },
      "execution_count": null,
      "outputs": [
        {
          "output_type": "stream",
          "name": "stdout",
          "text": [
            "\n",
            "Given array: \n",
            " [[1. 1.]\n",
            " [1. 1.]\n",
            " [1. 1.]\n",
            " [1. 1.]]\n",
            "\n",
            " Zeros Array: \n",
            " [[0. 0.]\n",
            " [0. 0.]\n",
            " [0. 0.]\n",
            " [0. 0.]]\n"
          ]
        }
      ]
    },
    {
      "cell_type": "markdown",
      "source": [
        "Return a new array of ones with same shape and type as a given array.{Hint: np.ones like}"
      ],
      "metadata": {
        "id": "wF9NqVuuS8LA"
      }
    },
    {
      "cell_type": "code",
      "source": [
        "array = np.zeros((2,2))\n",
        "\n",
        "print(\"\\nGiven array: \\n\", array)\n",
        "\n",
        "ones_array = np.ones_like(array) #creating new array of ones\n",
        "print(\"\\n Ones Array: \\n\", ones_array)"
      ],
      "metadata": {
        "colab": {
          "base_uri": "https://localhost:8080/"
        },
        "id": "ZXHKDc9BS_cw",
        "outputId": "42295f68-4514-4b52-f54a-f42806462232"
      },
      "execution_count": null,
      "outputs": [
        {
          "output_type": "stream",
          "name": "stdout",
          "text": [
            "\n",
            "Given array: \n",
            " [[0. 0.]\n",
            " [0. 0.]]\n",
            "\n",
            " Ones Array: \n",
            " [[1. 1.]\n",
            " [1. 1.]]\n"
          ]
        }
      ]
    },
    {
      "cell_type": "markdown",
      "source": [
        "For an existing list new_list = [1,2,3,4] convert to an numpy array.{Hint: np.array()}"
      ],
      "metadata": {
        "id": "0p1RCwekTKbF"
      }
    },
    {
      "cell_type": "code",
      "source": [
        "new_list = [1, 2, 3, 4]\n",
        "\n",
        "arr = np.array(new_list) #converting to array\n",
        "\n",
        "print(arr)"
      ],
      "metadata": {
        "colab": {
          "base_uri": "https://localhost:8080/"
        },
        "id": "5CL1XfsOTN_Z",
        "outputId": "c5f2ab33-ffe7-49dd-ca40-d53fecbb700b"
      },
      "execution_count": null,
      "outputs": [
        {
          "output_type": "stream",
          "name": "stdout",
          "text": [
            "[1 2 3 4]\n"
          ]
        }
      ]
    },
    {
      "cell_type": "markdown",
      "source": [
        "Create an array with values ranging from 10 to 49. {Hint:np.arrange()}."
      ],
      "metadata": {
        "id": "tIR6yjNdTf5j"
      }
    },
    {
      "cell_type": "code",
      "source": [
        "array= np.arange(10 , 49)\n",
        "print(array)"
      ],
      "metadata": {
        "colab": {
          "base_uri": "https://localhost:8080/"
        },
        "id": "pf5d4SgKTxcP",
        "outputId": "8f036ce5-0c45-4ad8-b990-c6f007035a40"
      },
      "execution_count": null,
      "outputs": [
        {
          "output_type": "stream",
          "name": "stdout",
          "text": [
            "[10 11 12 13 14 15 16 17 18 19 20 21 22 23 24 25 26 27 28 29 30 31 32 33\n",
            " 34 35 36 37 38 39 40 41 42 43 44 45 46 47 48]\n"
          ]
        }
      ]
    },
    {
      "cell_type": "markdown",
      "source": [
        "Create a 3X3 matrix with values ranging from 0 to 8."
      ],
      "metadata": {
        "id": "FGNpthnOTzUn"
      }
    },
    {
      "cell_type": "code",
      "source": [
        "arr = np.array([0, 1, 2, 3, 4, 5, 6, 7, 8])\n",
        "\n",
        "reshaped_arr = np.reshape(arr, (3, 3)) #reshaping the array\n",
        "print(reshaped_arr)"
      ],
      "metadata": {
        "colab": {
          "base_uri": "https://localhost:8080/"
        },
        "id": "tZMAVW2FT2yU",
        "outputId": "cf019402-56c0-44ad-9fa7-f9956e07f53b"
      },
      "execution_count": 2,
      "outputs": [
        {
          "output_type": "stream",
          "name": "stdout",
          "text": [
            "[[0 1 2]\n",
            " [3 4 5]\n",
            " [6 7 8]]\n"
          ]
        }
      ]
    },
    {
      "cell_type": "markdown",
      "source": [
        "Create a 3X3 identity matrix.{Hint:np.eye()}"
      ],
      "metadata": {
        "id": "Ps4VQpvtUc1V"
      }
    },
    {
      "cell_type": "code",
      "source": [
        "identity_matrix = np.eye(3) #Creating a 3*3 identity matrix\n",
        "print(identity_matrix)"
      ],
      "metadata": {
        "colab": {
          "base_uri": "https://localhost:8080/"
        },
        "id": "NboffdagUfp1",
        "outputId": "3d177895-ab0e-43f9-bf77-b9e479950e8e"
      },
      "execution_count": null,
      "outputs": [
        {
          "output_type": "stream",
          "name": "stdout",
          "text": [
            "[[1. 0. 0.]\n",
            " [0. 1. 0.]\n",
            " [0. 0. 1.]]\n"
          ]
        }
      ]
    },
    {
      "cell_type": "markdown",
      "source": [
        "Create a random array of size 30 and find the mean of the array.\n",
        "{Hint:check for np.random.random() and array.mean() function}"
      ],
      "metadata": {
        "id": "7cEbW5jKUuCj"
      }
    },
    {
      "cell_type": "code",
      "source": [
        "array = np.random.random(30) #random array with size 30\n",
        "print(\"\\n Random array: \\n\", array)\n",
        "\n",
        "print(\"Mean of the random array: \", np.mean(array)) #mean of the array"
      ],
      "metadata": {
        "colab": {
          "base_uri": "https://localhost:8080/"
        },
        "id": "X9YdJUfXUyIc",
        "outputId": "7154b204-1be1-47be-8272-cdfe7c79c4bb"
      },
      "execution_count": null,
      "outputs": [
        {
          "output_type": "stream",
          "name": "stdout",
          "text": [
            "\n",
            " Random array: \n",
            " [0.78074407 0.35379227 0.85473011 0.76779206 0.0997462  0.00525313\n",
            " 0.73599752 0.64107303 0.05311948 0.86631265 0.20436943 0.69419224\n",
            " 0.29367227 0.02707054 0.30470726 0.03197503 0.89977187 0.55185604\n",
            " 0.70547181 0.10368524 0.98004093 0.95931534 0.43657252 0.82119129\n",
            " 0.81308753 0.12207507 0.42555554 0.18941524 0.94092374 0.96718114]\n",
            "Mean of the random array:  0.5210230205916336\n"
          ]
        }
      ]
    },
    {
      "cell_type": "markdown",
      "source": [
        "Create a 10X10 array with random values and find the minimum and maximum values."
      ],
      "metadata": {
        "id": "TAk1l5BiVZwZ"
      }
    },
    {
      "cell_type": "code",
      "source": [
        "array = np.random.rand(10, 10)\n",
        "print(\"\\n Random array: \\n\", array)\n",
        "\n",
        "print(\"\\n The minimum value of the array is: \", np.min(array)) #minimum vlaue\n",
        "print(\"\\n The maximum value of the array is: \", np.max(array)) #maximum value"
      ],
      "metadata": {
        "colab": {
          "base_uri": "https://localhost:8080/"
        },
        "id": "KBkyCocAVqrZ",
        "outputId": "c02e3855-ac48-4945-c64e-9d581a41fa5f"
      },
      "execution_count": null,
      "outputs": [
        {
          "output_type": "stream",
          "name": "stdout",
          "text": [
            "\n",
            " Random array: \n",
            " [[9.14624192e-01 5.33738316e-01 3.82416502e-01 3.11174260e-01\n",
            "  5.20046417e-01 1.69835805e-01 2.92786464e-01 1.64582949e-01\n",
            "  8.57500634e-01 7.46828268e-01]\n",
            " [1.50323020e-01 3.91839065e-01 7.11211599e-01 6.45907283e-04\n",
            "  9.67478128e-01 1.69322431e-01 6.18250523e-01 8.04055587e-01\n",
            "  5.70485072e-01 6.36265520e-01]\n",
            " [3.73203136e-01 3.18768882e-01 4.63276158e-01 9.46413271e-01\n",
            "  4.60718276e-01 4.75505832e-01 4.68059606e-01 9.99147672e-01\n",
            "  1.55732940e-01 5.15172154e-02]\n",
            " [3.26048337e-01 2.12740129e-01 2.95794621e-01 6.04457221e-01\n",
            "  7.31721446e-01 8.91302424e-01 2.71065084e-02 4.88711974e-01\n",
            "  3.72347517e-01 6.85834436e-01]\n",
            " [5.53284609e-01 6.67817692e-01 6.90639375e-01 9.38518986e-01\n",
            "  9.58880479e-01 4.51563172e-01 6.94268896e-01 3.63086061e-03\n",
            "  3.71315400e-01 8.15992987e-01]\n",
            " [6.50656190e-01 3.79349684e-01 3.89153412e-01 7.64542222e-01\n",
            "  3.97431546e-01 5.45476874e-01 9.91874484e-01 8.21379578e-01\n",
            "  7.93959120e-01 9.00303274e-01]\n",
            " [5.43335699e-01 7.60735049e-01 3.61312282e-01 2.23395340e-01\n",
            "  5.70302698e-02 6.64659440e-01 8.32129045e-01 5.33390017e-01\n",
            "  6.91308989e-01 9.14040516e-01]\n",
            " [9.98344480e-01 8.45821541e-01 1.04237834e-01 7.75808821e-01\n",
            "  6.03600541e-01 2.24299603e-02 5.35268808e-01 4.89879732e-01\n",
            "  9.53402561e-01 2.83320684e-01]\n",
            " [2.16966788e-01 3.24231056e-02 6.60972929e-01 4.45480661e-01\n",
            "  9.64195686e-01 9.52952616e-01 5.56684301e-01 8.61227516e-01\n",
            "  8.93174423e-04 5.39610247e-01]\n",
            " [8.12769310e-02 3.68116601e-01 1.50096607e-01 3.44091438e-01\n",
            "  1.70502102e-01 8.07259213e-04 1.55903053e-01 8.40612003e-01\n",
            "  2.88945911e-01 5.09872585e-01]]\n",
            "\n",
            " The minimum value of the array is:  0.0006459072829990697\n",
            "\n",
            " The maximum value of the array is:  0.999147671748652\n"
          ]
        }
      ]
    },
    {
      "cell_type": "markdown",
      "source": [
        "Create a zero array of size 10 and replace 5th element with 1."
      ],
      "metadata": {
        "id": "gQjRtJwvWIX3"
      }
    },
    {
      "cell_type": "code",
      "source": [
        "array = np.zeros(10)\n",
        "print(\"\\n Original Array: \\n\", array)\n",
        "\n",
        "array[4] = 20 #Replacing the 5th element\n",
        "print(\"\\n Replaced Array: \\n\", array)"
      ],
      "metadata": {
        "colab": {
          "base_uri": "https://localhost:8080/"
        },
        "id": "PkdnTJUqWLlp",
        "outputId": "9f213429-19b8-44b7-c26a-eeda25a621a6"
      },
      "execution_count": 3,
      "outputs": [
        {
          "output_type": "stream",
          "name": "stdout",
          "text": [
            "\n",
            " Original Array: \n",
            " [0. 0. 0. 0. 0. 0. 0. 0. 0. 0.]\n",
            "\n",
            " Replaced Array: \n",
            " [ 0.  0.  0.  0. 20.  0.  0.  0.  0.  0.]\n"
          ]
        }
      ]
    },
    {
      "cell_type": "markdown",
      "source": [
        "Reverse an array arr = [1,2,0,0,4,0]."
      ],
      "metadata": {
        "id": "MtEwwIQuXElh"
      }
    },
    {
      "cell_type": "code",
      "source": [
        "arr = np.array([1,2,0,0,4,0])\n",
        "\n",
        "print(\"\\nThe flipped Array is: \\n\", np.flip(arr)) #Reversing the array"
      ],
      "metadata": {
        "colab": {
          "base_uri": "https://localhost:8080/"
        },
        "id": "JZjM1J0xXH4l",
        "outputId": "f69d89f7-164c-4368-e70b-028607afa9ad"
      },
      "execution_count": null,
      "outputs": [
        {
          "output_type": "stream",
          "name": "stdout",
          "text": [
            "\n",
            "The flipped Array is: \n",
            " [0 4 0 0 2 1]\n"
          ]
        }
      ]
    },
    {
      "cell_type": "markdown",
      "source": [
        "Create a 2d array with 1 on border and 0 inside."
      ],
      "metadata": {
        "id": "AhAScedFXdU1"
      }
    },
    {
      "cell_type": "code",
      "source": [
        "arr = np.ones((3, 3))\n",
        "\n",
        "print(\"Original array:\")\n",
        "print(arr)\n",
        "\n",
        "print(\"Modified array:\")\n",
        "arr[1:-1, 1:-1] = 0 #Modifying the array with 1 on border and 0 inside\n",
        "\n",
        "print(arr)"
      ],
      "metadata": {
        "colab": {
          "base_uri": "https://localhost:8080/"
        },
        "id": "ZDaQjtOoXgVo",
        "outputId": "7cadaf56-7833-4be0-c458-0b5ad949ce6c"
      },
      "execution_count": null,
      "outputs": [
        {
          "output_type": "stream",
          "name": "stdout",
          "text": [
            "Original array:\n",
            "[[1. 1. 1.]\n",
            " [1. 1. 1.]\n",
            " [1. 1. 1.]]\n",
            "Modified array:\n",
            "[[1. 1. 1.]\n",
            " [1. 0. 1.]\n",
            " [1. 1. 1.]]\n"
          ]
        }
      ]
    },
    {
      "cell_type": "markdown",
      "source": [
        "Create a 8X8 matrix and fill it with a checkerboard pattern."
      ],
      "metadata": {
        "id": "6j9g04urYCz9"
      }
    },
    {
      "cell_type": "code",
      "source": [
        "arr = np.zeros((8, 8), dtype=int)\n",
        "\n",
        "print(\"Checkerboard pattern:\")\n",
        "#filling it with checkerboard pattern\n",
        "arr[1::2, ::2] = 1\n",
        "arr[::2, 1::2] = 1\n",
        "\n",
        "print(arr)"
      ],
      "metadata": {
        "colab": {
          "base_uri": "https://localhost:8080/"
        },
        "id": "o0bkTjJ6YJcW",
        "outputId": "f175bbec-c841-4799-d898-afdda11e680c"
      },
      "execution_count": null,
      "outputs": [
        {
          "output_type": "stream",
          "name": "stdout",
          "text": [
            "Checkerboard pattern:\n",
            "[[0 1 0 1 0 1 0 1]\n",
            " [1 0 1 0 1 0 1 0]\n",
            " [0 1 0 1 0 1 0 1]\n",
            " [1 0 1 0 1 0 1 0]\n",
            " [0 1 0 1 0 1 0 1]\n",
            " [1 0 1 0 1 0 1 0]\n",
            " [0 1 0 1 0 1 0 1]\n",
            " [1 0 1 0 1 0 1 0]]\n"
          ]
        }
      ]
    },
    {
      "cell_type": "markdown",
      "source": [
        "Add the two array."
      ],
      "metadata": {
        "id": "7zj8gdPoYiGr"
      }
    },
    {
      "cell_type": "code",
      "source": [
        "x = np.array([[1,2],[3,5]])\n",
        "y = np.array([[5,6],[7,8]])\n",
        "v = np.array([9,10])\n",
        "w = np.array([11,12])\n",
        "# Adding the arrays and printing them\n",
        "print(\"\\n The addition between the arrays x and y are:\\n \", np.add(x, y))\n",
        "print(\"\\n The addition between the arrays v and w are:\\n \", np.add(v, w))"
      ],
      "metadata": {
        "colab": {
          "base_uri": "https://localhost:8080/"
        },
        "id": "k5-jtzv8YqGp",
        "outputId": "e83991f4-bd9b-47f4-e974-5798ba06d631"
      },
      "execution_count": null,
      "outputs": [
        {
          "output_type": "stream",
          "name": "stdout",
          "text": [
            "\n",
            " The addition between the arrays x and y are:\n",
            "  [[ 6  8]\n",
            " [10 13]]\n",
            "\n",
            " The addition between the arrays v and w are:\n",
            "  [20 22]\n"
          ]
        }
      ]
    },
    {
      "cell_type": "markdown",
      "source": [
        "Subtract the two array."
      ],
      "metadata": {
        "id": "E8utDS7ZZS4l"
      }
    },
    {
      "cell_type": "code",
      "source": [
        "#Subtracting the two array\n",
        "print(\"\\n The subtraction between the arrays x and y are:\\n \", np.subtract(x, y))\n",
        "print(\"\\n The subtraction between the arrays v and w are:\\n \", np.subtract(v, w))"
      ],
      "metadata": {
        "colab": {
          "base_uri": "https://localhost:8080/"
        },
        "id": "o9nkEZmSZXgM",
        "outputId": "738b6515-334c-49b6-ab09-421e4005b2f9"
      },
      "execution_count": null,
      "outputs": [
        {
          "output_type": "stream",
          "name": "stdout",
          "text": [
            "\n",
            " The subtraction between the arrays x and y are:\n",
            "  [[-4 -4]\n",
            " [-4 -3]]\n",
            "\n",
            " The subtraction between the arrays v and w are:\n",
            "  [-2 -2]\n"
          ]
        }
      ]
    },
    {
      "cell_type": "markdown",
      "source": [
        "Multiply the array with any integers of your choice."
      ],
      "metadata": {
        "id": "5112liCYZlGL"
      }
    },
    {
      "cell_type": "code",
      "source": [
        "#Multiplying the arrays with 4\n",
        "print(\"\\n The multiuplication of arrays x with 4 is:\\n \", np.multiply(x, 4))\n",
        "print(\"\\n The multiuplication of arrays y with 4 is:\\n \", np.multiply(y, 4))\n",
        "print(\"\\n The multiuplication of arrays v with 4 is:\\n \", np.multiply(v, 4))\n",
        "print(\"\\n The multiuplication of arrays w with 4 is:\\n \", np.multiply(w, 4))"
      ],
      "metadata": {
        "colab": {
          "base_uri": "https://localhost:8080/"
        },
        "id": "aU8kCEalZnbs",
        "outputId": "f23645fe-187d-46fe-c6a7-6229ec6908e7"
      },
      "execution_count": null,
      "outputs": [
        {
          "output_type": "stream",
          "name": "stdout",
          "text": [
            "\n",
            " The multiuplication of arrays x with 4 is:\n",
            "  [[ 4  8]\n",
            " [12 20]]\n",
            "\n",
            " The multiuplication of arrays y with 4 is:\n",
            "  [[20 24]\n",
            " [28 32]]\n",
            "\n",
            " The multiuplication of arrays v with 4 is:\n",
            "  [36 40]\n",
            "\n",
            " The multiuplication of arrays w with 4 is:\n",
            "  [44 48]\n"
          ]
        }
      ]
    },
    {
      "cell_type": "markdown",
      "source": [
        "Find the square of each element of the array."
      ],
      "metadata": {
        "id": "adBs0SsfaOXD"
      }
    },
    {
      "cell_type": "code",
      "source": [
        "print(\"\\n The square of each element of array x is:\\n \", np.square(x))\n",
        "print(\"\\n The square of each element of array y is:\\n \", np.square(y))\n",
        "print(\"\\n The square of each element of array v is:\\n \", np.square(v))\n",
        "print(\"\\n The square of each element of array w is:\\n \", np.square(w))"
      ],
      "metadata": {
        "colab": {
          "base_uri": "https://localhost:8080/"
        },
        "id": "AjNQ_RnLaRcB",
        "outputId": "2346d0a9-890e-42b5-c7c8-f699c065af26"
      },
      "execution_count": null,
      "outputs": [
        {
          "output_type": "stream",
          "name": "stdout",
          "text": [
            "\n",
            " The square of each element of array x is:\n",
            "  [[ 1  4]\n",
            " [ 9 25]]\n",
            "\n",
            " The square of each element of array y is:\n",
            "  [[25 36]\n",
            " [49 64]]\n",
            "\n",
            " The square of each element of array v is:\n",
            "  [ 81 100]\n",
            "\n",
            " The square of each element of array w is:\n",
            "  [121 144]\n"
          ]
        }
      ]
    },
    {
      "cell_type": "markdown",
      "source": [
        "Find the dot product between: v(and)w ; x(and)v ; x(and)y."
      ],
      "metadata": {
        "id": "10E-bGnZatSZ"
      }
    },
    {
      "cell_type": "code",
      "source": [
        "#Finding the dot product of 2 arrays\n",
        "print(\"\\n The dot product between the arrays v and w are:\\n \", np.dot(v, w))\n",
        "print(\"\\n The dot product between the arrays x and v are:\\n \", np.dot(x, v))\n",
        "print(\"\\n The dot product between the arrays x and y are:\\n \", np.dot(x, y))"
      ],
      "metadata": {
        "colab": {
          "base_uri": "https://localhost:8080/"
        },
        "id": "hsUTlvBTawZd",
        "outputId": "1d585609-7f66-4856-da57-7b001db70062"
      },
      "execution_count": null,
      "outputs": [
        {
          "output_type": "stream",
          "name": "stdout",
          "text": [
            "\n",
            " The dot product between the arrays v and w are:\n",
            "  219\n",
            "\n",
            " The dot product between the arrays x and v are:\n",
            "  [29 77]\n",
            "\n",
            " The dot product between the arrays x and y are:\n",
            "  [[19 22]\n",
            " [50 58]]\n"
          ]
        }
      ]
    },
    {
      "cell_type": "markdown",
      "source": [
        "Concatenate x(and)y along row and Concatenate v(and)w along column."
      ],
      "metadata": {
        "id": "n90oigaibH2u"
      }
    },
    {
      "cell_type": "code",
      "source": [
        "print(\"\\nConcatenate along rows:\\n \", np.vstack((x, y)))\n",
        "print(\"\\nConcatenate along columns:\\n \", np.hstack((v, w)))"
      ],
      "metadata": {
        "colab": {
          "base_uri": "https://localhost:8080/"
        },
        "id": "9Oju0NKObND2",
        "outputId": "1ed21b45-732c-4957-c011-f41fc4ca0b9b"
      },
      "execution_count": null,
      "outputs": [
        {
          "output_type": "stream",
          "name": "stdout",
          "text": [
            "\n",
            "Concatenate along rows:\n",
            "  [[1 2]\n",
            " [3 5]\n",
            " [5 6]\n",
            " [7 8]]\n",
            "\n",
            "Concatenate along columns:\n",
            "  [ 9 10 11 12]\n"
          ]
        }
      ]
    },
    {
      "cell_type": "markdown",
      "source": [
        "Concatenate x(and)v; if you get an error, observe and explain why did you get the error?"
      ],
      "metadata": {
        "id": "JiHghQSacUIN"
      }
    },
    {
      "cell_type": "code",
      "source": [
        "print(\"\\nConcatenate:\\n \", np.concatenate((x, v)))"
      ],
      "metadata": {
        "colab": {
          "base_uri": "https://localhost:8080/",
          "height": 141
        },
        "id": "cBBxM7-5dME5",
        "outputId": "8c8588f2-a43b-45ac-810e-cff76a529cec"
      },
      "execution_count": null,
      "outputs": [
        {
          "output_type": "error",
          "ename": "ValueError",
          "evalue": "all the input arrays must have same number of dimensions, but the array at index 0 has 2 dimension(s) and the array at index 1 has 1 dimension(s)",
          "traceback": [
            "\u001b[0;31m---------------------------------------------------------------------------\u001b[0m",
            "\u001b[0;31mValueError\u001b[0m                                Traceback (most recent call last)",
            "\u001b[0;32m<ipython-input-39-06f621df256b>\u001b[0m in \u001b[0;36m<cell line: 0>\u001b[0;34m()\u001b[0m\n\u001b[0;32m----> 1\u001b[0;31m \u001b[0mprint\u001b[0m\u001b[0;34m(\u001b[0m\u001b[0;34m\"\\nConcatenate:\\n \"\u001b[0m\u001b[0;34m,\u001b[0m \u001b[0mnp\u001b[0m\u001b[0;34m.\u001b[0m\u001b[0mconcatenate\u001b[0m\u001b[0;34m(\u001b[0m\u001b[0;34m(\u001b[0m\u001b[0mx\u001b[0m\u001b[0;34m,\u001b[0m \u001b[0mv\u001b[0m\u001b[0;34m)\u001b[0m\u001b[0;34m)\u001b[0m\u001b[0;34m)\u001b[0m\u001b[0;34m\u001b[0m\u001b[0;34m\u001b[0m\u001b[0m\n\u001b[0m",
            "\u001b[0;31mValueError\u001b[0m: all the input arrays must have same number of dimensions, but the array at index 0 has 2 dimension(s) and the array at index 1 has 1 dimension(s)"
          ]
        }
      ]
    },
    {
      "cell_type": "markdown",
      "source": [
        "Because the dimensions are not the same. x is a 2-dimensional array and v is a one-dimensional array."
      ],
      "metadata": {
        "id": "pcQmtUIYrtzR"
      }
    },
    {
      "cell_type": "markdown",
      "source": [
        "Prove following with Numpy:\n",
        "1. Prove A.A−1 = I.\n",
        "2. Prove AB ̸= BA.\n",
        "3. Prove (AB)\n",
        "\n",
        "T = BTAT"
      ],
      "metadata": {
        "id": "C9oOhlfSdpdZ"
      }
    },
    {
      "cell_type": "code",
      "source": [
        "A = np.array([[3,4],[7,8]])\n",
        "B = np.array([[5,3],[2,1]])\n",
        "\n",
        "print(\"A.A−1 = I\")\n",
        "inv_A = np.linalg.inv(A) #Finding the inverse of A\n",
        "dot_A= np.dot(A, inv_A) #Multiplying A with its inverse\n",
        "result = np.round(dot_A)\n",
        "print(result)\n",
        "\n",
        "print(\"\\nAB ̸= BA\")\n",
        "dot_AB = np.dot(A, B)#Finding the dot product of AB\n",
        "dot_BA = np.dot(B, A)#Finding the dot product of BA\n",
        "print(\"\\nAB:\\n\", dot_AB)\n",
        "print(\"\\nBA:\\n\", dot_BA)\n",
        "\n",
        "print(\"\\n(AB)T = BTAT\")\n",
        "transpose_AB = dot_AB.transpose() #Finding the transpose of AB\n",
        "print(\"\\nAB transpose:\\n\", transpose_AB)\n",
        "transpose_B = B.transpose()\n",
        "transpose_A = A.transpose()\n",
        "dot_TATB = np.dot(transpose_B, transpose_A)#Finding the dot product of BT and AT\n",
        "print(\"\\nB transpose dot A transpose:\\n\", dot_TATB)"
      ],
      "metadata": {
        "colab": {
          "base_uri": "https://localhost:8080/"
        },
        "id": "MY0JWzfidYeO",
        "outputId": "c058baea-e79e-4792-8f71-f022b8e5f8ea"
      },
      "execution_count": 5,
      "outputs": [
        {
          "output_type": "stream",
          "name": "stdout",
          "text": [
            "A.A−1 = I\n",
            "[[1. 0.]\n",
            " [0. 1.]]\n",
            "\n",
            "AB ̸= BA\n",
            "\n",
            "AB:\n",
            " [[23 13]\n",
            " [51 29]]\n",
            "\n",
            "BA:\n",
            " [[36 44]\n",
            " [13 16]]\n",
            "\n",
            "(AB)T = BTAT\n",
            "\n",
            "AB transpose:\n",
            " [[23 51]\n",
            " [13 29]]\n",
            "\n",
            "B transpose dot A transpose:\n",
            " [[23 51]\n",
            " [13 29]]\n"
          ]
        }
      ]
    },
    {
      "cell_type": "markdown",
      "source": [
        "Solve the following system of Linear equation using Inverse Methods."
      ],
      "metadata": {
        "id": "W9Mlb2Ixfykj"
      }
    },
    {
      "cell_type": "code",
      "source": [
        "#Finding the value of x, y, z according to X = A-1.B\n",
        "A = np.array([[2, -3, 1],\n",
        "              [1, -1, 2],\n",
        "              [3, 1, -1]])\n",
        "B = ([[-1],\n",
        "      [-3],\n",
        "      [9]])\n",
        "\n",
        "inv_A = np.linalg.inv(A)#Finding the inverse of A\n",
        "\n",
        "X = np.dot(inv_A, B)#Finding the dot product of A inverse and B\n",
        "\n",
        "print(\"Solution: x =\", X[0], \", y =\", X[1], \", z =\", X[2]) #Printing the values"
      ],
      "metadata": {
        "colab": {
          "base_uri": "https://localhost:8080/"
        },
        "id": "VToiebwnfrTb",
        "outputId": "0b0ff880-b70c-49dc-b816-cba10bbbbccb"
      },
      "execution_count": null,
      "outputs": [
        {
          "output_type": "stream",
          "name": "stdout",
          "text": [
            "Solution: x = [2.] , y = [1.] , z = [-2.]\n"
          ]
        }
      ]
    }
  ]
}